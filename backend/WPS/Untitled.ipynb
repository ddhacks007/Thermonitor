{
 "cells": [
  {
   "cell_type": "code",
   "execution_count": null,
   "id": "232c6182",
   "metadata": {},
   "outputs": [],
   "source": [
    "from test import test"
   ]
  },
  {
   "cell_type": "code",
   "execution_count": null,
   "id": "8e95e7a5",
   "metadata": {},
   "outputs": [],
   "source": [
    "image_path = \"../demo/imgs/4.png\""
   ]
  },
  {
   "cell_type": "code",
   "execution_count": null,
   "id": "a51a8284",
   "metadata": {},
   "outputs": [],
   "source": [
    "import numpy as np"
   ]
  },
  {
   "cell_type": "code",
   "execution_count": 1,
   "id": "8d599b9d",
   "metadata": {},
   "outputs": [
    {
     "name": "stdout",
     "output_type": "stream",
     "text": [
      "/Users/deepakraju/Segment_Transparent_Objects\n"
     ]
    }
   ],
   "source": [
    "cd .."
   ]
  },
  {
   "cell_type": "code",
   "execution_count": 6,
   "id": "558f0279",
   "metadata": {},
   "outputs": [
    {
     "name": "stdout",
     "output_type": "stream",
     "text": [
      "test-3.jpeg test-4.jpeg\n",
      "test_imgs.jpg test-4.jpeg\n",
      "test-2.jpeg test-4.jpeg\n",
      "test-4.jpeg test-4.jpeg\n",
      "matched\n",
      "(256, 256)\n",
      "3.020763874053955  seconds \n",
      "deepak ... .. .. .. . \n"
     ]
    }
   ],
   "source": [
    "from tools.GlassSegmenter import Evaluator\n",
    "eval = Evaluator()\n",
    "binary_image = eval.eval('test-4.jpeg')"
   ]
  },
  {
   "cell_type": "code",
   "execution_count": 7,
   "id": "7d868731",
   "metadata": {},
   "outputs": [
    {
     "data": {
      "image/png": "[encoded data removed]",
      "text/plain": [
       "<PIL.Image.Image image mode=L size=256x256>"
      ]
     },
     "execution_count": 7,
     "metadata": {},
     "output_type": "execute_result"
    }
   ],
   "source": [
    "Image.fromarray(binary_image)"
   ]
  },
  {
   "cell_type": "code",
   "execution_count": null,
   "id": "269ccac7",
   "metadata": {},
   "outputs": [],
   "source": [
    "np.random.random_integers(low=9, high=10, size=(2, 10))"
   ]
  },
  {
   "cell_type": "code",
   "execution_count": 4,
   "id": "f6967eab",
   "metadata": {},
   "outputs": [],
   "source": [
    "from PIL import Image"
   ]
  },
  {
   "cell_type": "code",
   "execution_count": null,
   "id": "8343889d",
   "metadata": {},
   "outputs": [],
   "source": [
    "img = Image.open('/Users/deepakraju/Downloads/test1.png')"
   ]
  },
  {
   "cell_type": "code",
   "execution_count": null,
   "id": "773b87ab",
   "metadata": {},
   "outputs": [],
   "source": [
    "import cv2\n",
    "img_org = cv2.resize(img.copy(), (256, 256),  interpolation=cv2.INTER_NEAREST).astype(np.uint8)\n"
   ]
  },
  {
   "cell_type": "code",
   "execution_count": null,
   "id": "a1bc9e50",
   "metadata": {},
   "outputs": [],
   "source": [
    "k = np.array(Image.open('/Users/deepakraju/Downloads/test-2.jpeg'))"
   ]
  },
  {
   "cell_type": "code",
   "execution_count": null,
   "id": "61108812",
   "metadata": {
    "scrolled": true
   },
   "outputs": [],
   "source": [
    "Image.fromarray(np.concatenate((k[:, 2000:2500], (k[:, 1700:])), axis=1))"
   ]
  },
  {
   "cell_type": "code",
   "execution_count": null,
   "id": "b2eb19cb",
   "metadata": {},
   "outputs": [],
   "source": [
    "cv2.imread('/Users/deepakraju/Downloads/test-4.jpeg')[:, :, :-1]"
   ]
  },
  {
   "cell_type": "code",
   "execution_count": null,
   "id": "f74694c4",
   "metadata": {},
   "outputs": [],
   "source": [
    "k[:, 2000:2500].shape"
   ]
  },
  {
   "cell_type": "code",
   "execution_count": null,
   "id": "2d9a64a8",
   "metadata": {},
   "outputs": [],
   "source": []
  }
 ],
 "metadata": {
  "kernelspec": {
   "display_name": "Python 3 (ipykernel)",
   "language": "python",
   "name": "python3"
  },
  "language_info": {
   "codemirror_mode": {
    "name": "ipython",
    "version": 3
   },
   "file_extension": ".py",
   "mimetype": "text/x-python",
   "name": "python",
   "nbconvert_exporter": "python",
   "pygments_lexer": "ipython3",
   "version": "3.8.9"
  }
 },
 "nbformat": 4,
 "nbformat_minor": 5
}
